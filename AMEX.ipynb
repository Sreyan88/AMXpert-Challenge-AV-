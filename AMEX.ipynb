{
 "cells": [
  {
   "cell_type": "code",
   "execution_count": 46,
   "metadata": {},
   "outputs": [],
   "source": [
    "import pandas as pd\n",
    "import numpy as np\n",
    "import matplotlib.pyplot as plt\n",
    "import seaborn as sns\n",
    "import datetime"
   ]
  },
  {
   "cell_type": "code",
   "execution_count": 3,
   "metadata": {},
   "outputs": [],
   "source": [
    "from catboost import Pool, CatBoostClassifier"
   ]
  },
  {
   "cell_type": "code",
   "execution_count": 9,
   "metadata": {},
   "outputs": [],
   "source": [
    "df=pd.read_csv(\"train.csv\")"
   ]
  },
  {
   "cell_type": "code",
   "execution_count": 10,
   "metadata": {},
   "outputs": [],
   "source": [
    "df1=pd.read_csv(\"test.csv\")"
   ]
  },
  {
   "cell_type": "code",
   "execution_count": 30,
   "metadata": {},
   "outputs": [],
   "source": [
    "extra=pd.read_csv(\"historical_user_logs.csv\")"
   ]
  },
  {
   "cell_type": "code",
   "execution_count": 34,
   "metadata": {},
   "outputs": [
    {
     "data": {
      "text/plain": [
       "view        23854100\n",
       "interest      433434\n",
       "Name: action, dtype: int64"
      ]
     },
     "execution_count": 34,
     "metadata": {},
     "output_type": "execute_result"
    }
   ],
   "source": [
    "extra[\"action\"].value_counts()"
   ]
  },
  {
   "cell_type": "code",
   "execution_count": 43,
   "metadata": {},
   "outputs": [
    {
     "data": {
      "text/plain": [
       "82527.0     35531\n",
       "146115.0    25224\n",
       "270915.0    19624\n",
       "254132.0    12502\n",
       "143597.0     2701\n",
       "269093.0      858\n",
       "32026.0       578\n",
       "18595.0        76\n",
       "408790.0       67\n",
       "255689.0       62\n",
       "419804.0       43\n",
       "372532.0       41\n",
       "66101.0        34\n",
       "234846.0       25\n",
       "235358.0       19\n",
       "450184.0       14\n",
       "408831.0       12\n",
       "327439.0        8\n",
       "300711.0        4\n",
       "447834.0        3\n",
       "99226.0         2\n",
       "168114.0        2\n",
       "202351.0        1\n",
       "181650.0        1\n",
       "419304.0        1\n",
       "301147.0        1\n",
       "270147.0        1\n",
       "247789.0        1\n",
       "381435.0        1\n",
       "Name: product_category_2, dtype: int64"
      ]
     },
     "execution_count": 43,
     "metadata": {},
     "output_type": "execute_result"
    }
   ],
   "source": [
    "df[\"product_category_2\"].value_counts()"
   ]
  },
  {
   "cell_type": "code",
   "execution_count": 55,
   "metadata": {},
   "outputs": [],
   "source": [
    "df[\"DateTime\"]=pd.to_datetime(df[\"DateTime\"],format='%Y-%m-%d %H:%M')\n",
    "\n"
   ]
  },
  {
   "cell_type": "code",
   "execution_count": 56,
   "metadata": {},
   "outputs": [],
   "source": [
    "df[\"day\"]=df['DateTime'].dt.day"
   ]
  },
  {
   "cell_type": "code",
   "execution_count": 40,
   "metadata": {},
   "outputs": [
    {
     "data": {
      "text/plain": [
       "0    12959\n",
       "1     9520\n",
       "Name: var_1, dtype: int64"
      ]
     },
     "execution_count": 40,
     "metadata": {},
     "output_type": "execute_result"
    }
   ],
   "source": [
    "df[df[\"product\"]==\"B\"][\"var_1\"].value_counts()"
   ]
  },
  {
   "cell_type": "code",
   "execution_count": 60,
   "metadata": {},
   "outputs": [],
   "source": [
    "df1[\"DateTime\"]=pd.to_datetime(df1[\"DateTime\"],format='%Y-%m-%d %H:%M')\n",
    "df1[\"day\"]=df1['DateTime'].dt.day\n"
   ]
  },
  {
   "cell_type": "code",
   "execution_count": 57,
   "metadata": {},
   "outputs": [
    {
     "data": {
      "text/html": [
       "<div>\n",
       "<style scoped>\n",
       "    .dataframe tbody tr th:only-of-type {\n",
       "        vertical-align: middle;\n",
       "    }\n",
       "\n",
       "    .dataframe tbody tr th {\n",
       "        vertical-align: top;\n",
       "    }\n",
       "\n",
       "    .dataframe thead th {\n",
       "        text-align: right;\n",
       "    }\n",
       "</style>\n",
       "<table border=\"1\" class=\"dataframe\">\n",
       "  <thead>\n",
       "    <tr style=\"text-align: right;\">\n",
       "      <th></th>\n",
       "      <th>session_id</th>\n",
       "      <th>DateTime</th>\n",
       "      <th>user_id</th>\n",
       "      <th>product</th>\n",
       "      <th>campaign_id</th>\n",
       "      <th>webpage_id</th>\n",
       "      <th>product_category_1</th>\n",
       "      <th>product_category_2</th>\n",
       "      <th>user_group_id</th>\n",
       "      <th>gender</th>\n",
       "      <th>...</th>\n",
       "      <th>city_development_index</th>\n",
       "      <th>var_1</th>\n",
       "      <th>is_click</th>\n",
       "      <th>product_combined</th>\n",
       "      <th>product_webpage</th>\n",
       "      <th>product1</th>\n",
       "      <th>productweb1</th>\n",
       "      <th>product_combined1</th>\n",
       "      <th>Date</th>\n",
       "      <th>day</th>\n",
       "    </tr>\n",
       "  </thead>\n",
       "  <tbody>\n",
       "    <tr>\n",
       "      <th>463286</th>\n",
       "      <td>583588</td>\n",
       "      <td>2017-07-07 23:59:00</td>\n",
       "      <td>572718</td>\n",
       "      <td>H</td>\n",
       "      <td>118601</td>\n",
       "      <td>28529</td>\n",
       "      <td>5</td>\n",
       "      <td>82527.0</td>\n",
       "      <td>4.0</td>\n",
       "      <td>Male</td>\n",
       "      <td>...</td>\n",
       "      <td>2.0</td>\n",
       "      <td>0</td>\n",
       "      <td>0</td>\n",
       "      <td>5_28529</td>\n",
       "      <td>H_28529</td>\n",
       "      <td>7</td>\n",
       "      <td>56</td>\n",
       "      <td>27</td>\n",
       "      <td>2017-07-07 23:59:00</td>\n",
       "      <td>7</td>\n",
       "    </tr>\n",
       "    <tr>\n",
       "      <th>463287</th>\n",
       "      <td>198389</td>\n",
       "      <td>2017-07-07 23:59:00</td>\n",
       "      <td>130461</td>\n",
       "      <td>I</td>\n",
       "      <td>118601</td>\n",
       "      <td>28529</td>\n",
       "      <td>4</td>\n",
       "      <td>82527.0</td>\n",
       "      <td>10.0</td>\n",
       "      <td>Female</td>\n",
       "      <td>...</td>\n",
       "      <td>2.0</td>\n",
       "      <td>1</td>\n",
       "      <td>0</td>\n",
       "      <td>4_28529</td>\n",
       "      <td>I_28529</td>\n",
       "      <td>8</td>\n",
       "      <td>65</td>\n",
       "      <td>21</td>\n",
       "      <td>2017-07-07 23:59:00</td>\n",
       "      <td>7</td>\n",
       "    </tr>\n",
       "    <tr>\n",
       "      <th>463288</th>\n",
       "      <td>563423</td>\n",
       "      <td>2017-07-07 23:59:00</td>\n",
       "      <td>306241</td>\n",
       "      <td>D</td>\n",
       "      <td>118601</td>\n",
       "      <td>28529</td>\n",
       "      <td>4</td>\n",
       "      <td>82527.0</td>\n",
       "      <td>2.0</td>\n",
       "      <td>Male</td>\n",
       "      <td>...</td>\n",
       "      <td>NaN</td>\n",
       "      <td>0</td>\n",
       "      <td>0</td>\n",
       "      <td>4_28529</td>\n",
       "      <td>D_28529</td>\n",
       "      <td>3</td>\n",
       "      <td>27</td>\n",
       "      <td>21</td>\n",
       "      <td>2017-07-07 23:59:00</td>\n",
       "      <td>7</td>\n",
       "    </tr>\n",
       "    <tr>\n",
       "      <th>463289</th>\n",
       "      <td>595571</td>\n",
       "      <td>2017-07-07 23:59:00</td>\n",
       "      <td>306241</td>\n",
       "      <td>D</td>\n",
       "      <td>118601</td>\n",
       "      <td>28529</td>\n",
       "      <td>5</td>\n",
       "      <td>82527.0</td>\n",
       "      <td>2.0</td>\n",
       "      <td>Male</td>\n",
       "      <td>...</td>\n",
       "      <td>NaN</td>\n",
       "      <td>0</td>\n",
       "      <td>0</td>\n",
       "      <td>5_28529</td>\n",
       "      <td>D_28529</td>\n",
       "      <td>3</td>\n",
       "      <td>27</td>\n",
       "      <td>27</td>\n",
       "      <td>2017-07-07 23:59:00</td>\n",
       "      <td>7</td>\n",
       "    </tr>\n",
       "    <tr>\n",
       "      <th>463290</th>\n",
       "      <td>45023</td>\n",
       "      <td>2017-07-07 23:59:00</td>\n",
       "      <td>1113780</td>\n",
       "      <td>C</td>\n",
       "      <td>405490</td>\n",
       "      <td>60305</td>\n",
       "      <td>3</td>\n",
       "      <td>NaN</td>\n",
       "      <td>5.0</td>\n",
       "      <td>Male</td>\n",
       "      <td>...</td>\n",
       "      <td>4.0</td>\n",
       "      <td>0</td>\n",
       "      <td>0</td>\n",
       "      <td>3_60305</td>\n",
       "      <td>C_60305</td>\n",
       "      <td>2</td>\n",
       "      <td>22</td>\n",
       "      <td>17</td>\n",
       "      <td>2017-07-07 23:59:00</td>\n",
       "      <td>7</td>\n",
       "    </tr>\n",
       "  </tbody>\n",
       "</table>\n",
       "<p>5 rows × 22 columns</p>\n",
       "</div>"
      ],
      "text/plain": [
       "        session_id            DateTime  user_id product  campaign_id  \\\n",
       "463286      583588 2017-07-07 23:59:00   572718       H       118601   \n",
       "463287      198389 2017-07-07 23:59:00   130461       I       118601   \n",
       "463288      563423 2017-07-07 23:59:00   306241       D       118601   \n",
       "463289      595571 2017-07-07 23:59:00   306241       D       118601   \n",
       "463290       45023 2017-07-07 23:59:00  1113780       C       405490   \n",
       "\n",
       "        webpage_id  product_category_1  product_category_2  user_group_id  \\\n",
       "463286       28529                   5             82527.0            4.0   \n",
       "463287       28529                   4             82527.0           10.0   \n",
       "463288       28529                   4             82527.0            2.0   \n",
       "463289       28529                   5             82527.0            2.0   \n",
       "463290       60305                   3                 NaN            5.0   \n",
       "\n",
       "        gender ...   city_development_index  var_1  is_click  \\\n",
       "463286    Male ...                      2.0      0         0   \n",
       "463287  Female ...                      2.0      1         0   \n",
       "463288    Male ...                      NaN      0         0   \n",
       "463289    Male ...                      NaN      0         0   \n",
       "463290    Male ...                      4.0      0         0   \n",
       "\n",
       "        product_combined  product_webpage product1 productweb1  \\\n",
       "463286           5_28529          H_28529        7          56   \n",
       "463287           4_28529          I_28529        8          65   \n",
       "463288           4_28529          D_28529        3          27   \n",
       "463289           5_28529          D_28529        3          27   \n",
       "463290           3_60305          C_60305        2          22   \n",
       "\n",
       "        product_combined1                Date  day  \n",
       "463286                 27 2017-07-07 23:59:00    7  \n",
       "463287                 21 2017-07-07 23:59:00    7  \n",
       "463288                 21 2017-07-07 23:59:00    7  \n",
       "463289                 27 2017-07-07 23:59:00    7  \n",
       "463290                 17 2017-07-07 23:59:00    7  \n",
       "\n",
       "[5 rows x 22 columns]"
      ]
     },
     "execution_count": 57,
     "metadata": {},
     "output_type": "execute_result"
    }
   ],
   "source": [
    "df.tail()"
   ]
  },
  {
   "cell_type": "code",
   "execution_count": 4,
   "metadata": {},
   "outputs": [
    {
     "data": {
      "text/plain": [
       "82527.0     35531\n",
       "146115.0    25224\n",
       "270915.0    19624\n",
       "254132.0    12502\n",
       "143597.0     2701\n",
       "269093.0      858\n",
       "32026.0       578\n",
       "18595.0        76\n",
       "408790.0       67\n",
       "255689.0       62\n",
       "419804.0       43\n",
       "372532.0       41\n",
       "66101.0        34\n",
       "234846.0       25\n",
       "235358.0       19\n",
       "450184.0       14\n",
       "408831.0       12\n",
       "327439.0        8\n",
       "300711.0        4\n",
       "447834.0        3\n",
       "99226.0         2\n",
       "168114.0        2\n",
       "202351.0        1\n",
       "181650.0        1\n",
       "419304.0        1\n",
       "301147.0        1\n",
       "270147.0        1\n",
       "247789.0        1\n",
       "381435.0        1\n",
       "Name: product_category_2, dtype: int64"
      ]
     },
     "execution_count": 4,
     "metadata": {},
     "output_type": "execute_result"
    }
   ],
   "source": [
    "df[\"product_category_2\"].value_counts()"
   ]
  },
  {
   "cell_type": "code",
   "execution_count": 5,
   "metadata": {},
   "outputs": [
    {
     "data": {
      "text/plain": [
       "<matplotlib.axes._subplots.AxesSubplot at 0x1820001d518>"
      ]
     },
     "execution_count": 5,
     "metadata": {},
     "output_type": "execute_result"
    },
    {
     "data": {
      "image/png": "[encoded data removed]",
      "text/plain": [
       "<Figure size 432x288 with 1 Axes>"
      ]
     },
     "metadata": {
      "needs_background": "light"
     },
     "output_type": "display_data"
    }
   ],
   "source": [
    "sns.countplot(x=\"is_click\",data=df)"
   ]
  },
  {
   "cell_type": "code",
   "execution_count": 6,
   "metadata": {},
   "outputs": [
    {
     "data": {
      "text/plain": [
       "<matplotlib.axes._subplots.AxesSubplot at 0x182006a6748>"
      ]
     },
     "execution_count": 6,
     "metadata": {},
     "output_type": "execute_result"
    },
    {
     "data": {
      "image/png": "[encoded data removed]",
      "text/plain": [
       "<Figure size 432x288 with 1 Axes>"
      ]
     },
     "metadata": {
      "needs_background": "light"
     },
     "output_type": "display_data"
    }
   ],
   "source": [
    "sns.countplot(x=\"gender\",data=df)"
   ]
  },
  {
   "cell_type": "code",
   "execution_count": 75,
   "metadata": {},
   "outputs": [
    {
     "data": {
      "text/plain": [
       "<matplotlib.axes._subplots.AxesSubplot at 0x23a0090b390>"
      ]
     },
     "execution_count": 75,
     "metadata": {},
     "output_type": "execute_result"
    },
    {
     "data": {
      "image/png": "[encoded data removed]",
      "text/plain": [
       "<Figure size 432x288 with 1 Axes>"
      ]
     },
     "metadata": {
      "needs_background": "light"
     },
     "output_type": "display_data"
    }
   ],
   "source": [
    "sns.countplot(x=\"day\",data=df,hue=\"is_click\")"
   ]
  },
  {
   "cell_type": "code",
   "execution_count": 77,
   "metadata": {},
   "outputs": [
    {
     "data": {
      "text/plain": [
       "<matplotlib.axes._subplots.AxesSubplot at 0x23a00a73080>"
      ]
     },
     "execution_count": 77,
     "metadata": {},
     "output_type": "execute_result"
    },
    {
     "data": {
      "image/png": "[encoded data removed]",
      "text/plain": [
       "<Figure size 432x288 with 1 Axes>"
      ]
     },
     "metadata": {
      "needs_background": "light"
     },
     "output_type": "display_data"
    }
   ],
   "source": [
    "sns.countplot(x=\"product_category_1\",data=df,hue=\"is_click\")"
   ]
  },
  {
   "cell_type": "code",
   "execution_count": 79,
   "metadata": {},
   "outputs": [
    {
     "data": {
      "text/plain": [
       "<matplotlib.axes._subplots.AxesSubplot at 0x23a023fb278>"
      ]
     },
     "execution_count": 79,
     "metadata": {},
     "output_type": "execute_result"
    },
    {
     "data": {
      "image/png": "[encoded data removed]",
      "text/plain": [
       "<Figure size 432x288 with 1 Axes>"
      ]
     },
     "metadata": {
      "needs_background": "light"
     },
     "output_type": "display_data"
    }
   ],
   "source": [
    "sns.countplot(x=\"product_combined1\",data=df,hue=\"is_click\")"
   ]
  },
  {
   "cell_type": "code",
   "execution_count": 10,
   "metadata": {},
   "outputs": [
    {
     "data": {
      "text/plain": [
       "<matplotlib.axes._subplots.AxesSubplot at 0x182007df0f0>"
      ]
     },
     "execution_count": 10,
     "metadata": {},
     "output_type": "execute_result"
    },
    {
     "data": {
      "image/png": "[encoded data removed]",
      "text/plain": [
       "<Figure size 432x288 with 1 Axes>"
      ]
     },
     "metadata": {
      "needs_background": "light"
     },
     "output_type": "display_data"
    }
   ],
   "source": [
    "sns.countplot(x=\"user_group_id\",data=df1)"
   ]
  },
  {
   "cell_type": "code",
   "execution_count": 12,
   "metadata": {},
   "outputs": [
    {
     "data": {
      "text/plain": [
       "<matplotlib.axes._subplots.AxesSubplot at 0x182008801d0>"
      ]
     },
     "execution_count": 12,
     "metadata": {},
     "output_type": "execute_result"
    },
    {
     "data": {
      "image/png": "[encoded data removed]",
      "text/plain": [
       "<Figure size 432x288 with 1 Axes>"
      ]
     },
     "metadata": {
      "needs_background": "light"
     },
     "output_type": "display_data"
    }
   ],
   "source": [
    "sns.countplot(x=\"product\",data=df)"
   ]
  },
  {
   "cell_type": "code",
   "execution_count": 13,
   "metadata": {},
   "outputs": [
    {
     "data": {
      "text/plain": [
       "<matplotlib.axes._subplots.AxesSubplot at 0x182007d6588>"
      ]
     },
     "execution_count": 13,
     "metadata": {},
     "output_type": "execute_result"
    },
    {
     "data": {
      "image/png": "[encoded data removed]",
      "text/plain": [
       "<Figure size 432x288 with 1 Axes>"
      ]
     },
     "metadata": {
      "needs_background": "light"
     },
     "output_type": "display_data"
    }
   ],
   "source": [
    "sns.countplot(x=\"product\",data=df1)"
   ]
  },
  {
   "cell_type": "code",
   "execution_count": 48,
   "metadata": {},
   "outputs": [
    {
     "data": {
      "text/plain": [
       "0    267704\n",
       "1    195587\n",
       "Name: var_1, dtype: int64"
      ]
     },
     "execution_count": 48,
     "metadata": {},
     "output_type": "execute_result"
    }
   ],
   "source": [
    "df[\"var_1\"].value_counts()"
   ]
  },
  {
   "cell_type": "code",
   "execution_count": 71,
   "metadata": {},
   "outputs": [
    {
     "data": {
      "text/plain": [
       "session_id                     0\n",
       "DateTime                       0\n",
       "user_id                        0\n",
       "product                        0\n",
       "campaign_id                    0\n",
       "webpage_id                     0\n",
       "product_category_1             0\n",
       "product_category_2        365854\n",
       "user_group_id              18243\n",
       "gender                     18243\n",
       "age_level                  18243\n",
       "user_depth                 18243\n",
       "city_development_index    125129\n",
       "var_1                          0\n",
       "is_click                       0\n",
       "product_webpage                0\n",
       "product1                       0\n",
       "productweb1                    0\n",
       "product_combined               0\n",
       "product_combined1              0\n",
       "dtype: int64"
      ]
     },
     "execution_count": 71,
     "metadata": {},
     "output_type": "execute_result"
    }
   ],
   "source": [
    "df.isna().sum()"
   ]
  },
  {
   "cell_type": "code",
   "execution_count": 11,
   "metadata": {},
   "outputs": [],
   "source": [
    "df[\"product_combined\"]=df[\"product_category_1\"].astype(str) + \"_\" + df[\"webpage_id\"].astype(str)"
   ]
  },
  {
   "cell_type": "code",
   "execution_count": 12,
   "metadata": {},
   "outputs": [],
   "source": [
    "df1[\"product_combined\"]=df1[\"product_category_1\"].astype(str) + \"_\" + df1[\"webpage_id\"].astype(str)\n"
   ]
  },
  {
   "cell_type": "code",
   "execution_count": 59,
   "metadata": {},
   "outputs": [
    {
     "data": {
      "text/html": [
       "<div>\n",
       "<style scoped>\n",
       "    .dataframe tbody tr th:only-of-type {\n",
       "        vertical-align: middle;\n",
       "    }\n",
       "\n",
       "    .dataframe tbody tr th {\n",
       "        vertical-align: top;\n",
       "    }\n",
       "\n",
       "    .dataframe thead th {\n",
       "        text-align: right;\n",
       "    }\n",
       "</style>\n",
       "<table border=\"1\" class=\"dataframe\">\n",
       "  <thead>\n",
       "    <tr style=\"text-align: right;\">\n",
       "      <th></th>\n",
       "      <th>session_id</th>\n",
       "      <th>DateTime</th>\n",
       "      <th>user_id</th>\n",
       "      <th>product</th>\n",
       "      <th>campaign_id</th>\n",
       "      <th>webpage_id</th>\n",
       "      <th>product_category_1</th>\n",
       "      <th>product_category_2</th>\n",
       "      <th>user_group_id</th>\n",
       "      <th>gender</th>\n",
       "      <th>age_level</th>\n",
       "      <th>user_depth</th>\n",
       "      <th>city_development_index</th>\n",
       "      <th>var_1</th>\n",
       "      <th>is_click</th>\n",
       "      <th>product_webpage</th>\n",
       "      <th>product1</th>\n",
       "      <th>productweb1</th>\n",
       "      <th>product_combined</th>\n",
       "      <th>product_combined1</th>\n",
       "    </tr>\n",
       "  </thead>\n",
       "  <tbody>\n",
       "    <tr>\n",
       "      <th>0</th>\n",
       "      <td>140690</td>\n",
       "      <td>2017-07-02 00:00</td>\n",
       "      <td>858557</td>\n",
       "      <td>C</td>\n",
       "      <td>359520</td>\n",
       "      <td>13787</td>\n",
       "      <td>4</td>\n",
       "      <td>NaN</td>\n",
       "      <td>10.0</td>\n",
       "      <td>Female</td>\n",
       "      <td>4.0</td>\n",
       "      <td>3.0</td>\n",
       "      <td>3.0</td>\n",
       "      <td>0</td>\n",
       "      <td>0</td>\n",
       "      <td>C_13787</td>\n",
       "      <td>2</td>\n",
       "      <td>17</td>\n",
       "      <td>4_13787</td>\n",
       "      <td>20</td>\n",
       "    </tr>\n",
       "    <tr>\n",
       "      <th>1</th>\n",
       "      <td>333291</td>\n",
       "      <td>2017-07-02 00:00</td>\n",
       "      <td>243253</td>\n",
       "      <td>C</td>\n",
       "      <td>105960</td>\n",
       "      <td>11085</td>\n",
       "      <td>5</td>\n",
       "      <td>NaN</td>\n",
       "      <td>8.0</td>\n",
       "      <td>Female</td>\n",
       "      <td>2.0</td>\n",
       "      <td>2.0</td>\n",
       "      <td>NaN</td>\n",
       "      <td>0</td>\n",
       "      <td>0</td>\n",
       "      <td>C_11085</td>\n",
       "      <td>2</td>\n",
       "      <td>16</td>\n",
       "      <td>5_11085</td>\n",
       "      <td>25</td>\n",
       "    </tr>\n",
       "    <tr>\n",
       "      <th>2</th>\n",
       "      <td>129781</td>\n",
       "      <td>2017-07-02 00:00</td>\n",
       "      <td>243253</td>\n",
       "      <td>C</td>\n",
       "      <td>359520</td>\n",
       "      <td>13787</td>\n",
       "      <td>4</td>\n",
       "      <td>NaN</td>\n",
       "      <td>8.0</td>\n",
       "      <td>Female</td>\n",
       "      <td>2.0</td>\n",
       "      <td>2.0</td>\n",
       "      <td>NaN</td>\n",
       "      <td>0</td>\n",
       "      <td>0</td>\n",
       "      <td>C_13787</td>\n",
       "      <td>2</td>\n",
       "      <td>17</td>\n",
       "      <td>4_13787</td>\n",
       "      <td>20</td>\n",
       "    </tr>\n",
       "    <tr>\n",
       "      <th>3</th>\n",
       "      <td>464848</td>\n",
       "      <td>2017-07-02 00:00</td>\n",
       "      <td>1097446</td>\n",
       "      <td>I</td>\n",
       "      <td>359520</td>\n",
       "      <td>13787</td>\n",
       "      <td>3</td>\n",
       "      <td>NaN</td>\n",
       "      <td>3.0</td>\n",
       "      <td>Male</td>\n",
       "      <td>3.0</td>\n",
       "      <td>3.0</td>\n",
       "      <td>2.0</td>\n",
       "      <td>1</td>\n",
       "      <td>0</td>\n",
       "      <td>I_13787</td>\n",
       "      <td>8</td>\n",
       "      <td>63</td>\n",
       "      <td>3_13787</td>\n",
       "      <td>14</td>\n",
       "    </tr>\n",
       "    <tr>\n",
       "      <th>4</th>\n",
       "      <td>90569</td>\n",
       "      <td>2017-07-02 00:01</td>\n",
       "      <td>663656</td>\n",
       "      <td>C</td>\n",
       "      <td>405490</td>\n",
       "      <td>60305</td>\n",
       "      <td>3</td>\n",
       "      <td>NaN</td>\n",
       "      <td>2.0</td>\n",
       "      <td>Male</td>\n",
       "      <td>2.0</td>\n",
       "      <td>3.0</td>\n",
       "      <td>2.0</td>\n",
       "      <td>1</td>\n",
       "      <td>0</td>\n",
       "      <td>C_60305</td>\n",
       "      <td>2</td>\n",
       "      <td>22</td>\n",
       "      <td>3_60305</td>\n",
       "      <td>17</td>\n",
       "    </tr>\n",
       "  </tbody>\n",
       "</table>\n",
       "</div>"
      ],
      "text/plain": [
       "   session_id          DateTime  user_id product  campaign_id  webpage_id  \\\n",
       "0      140690  2017-07-02 00:00   858557       C       359520       13787   \n",
       "1      333291  2017-07-02 00:00   243253       C       105960       11085   \n",
       "2      129781  2017-07-02 00:00   243253       C       359520       13787   \n",
       "3      464848  2017-07-02 00:00  1097446       I       359520       13787   \n",
       "4       90569  2017-07-02 00:01   663656       C       405490       60305   \n",
       "\n",
       "   product_category_1  product_category_2  user_group_id  gender  age_level  \\\n",
       "0                   4                 NaN           10.0  Female        4.0   \n",
       "1                   5                 NaN            8.0  Female        2.0   \n",
       "2                   4                 NaN            8.0  Female        2.0   \n",
       "3                   3                 NaN            3.0    Male        3.0   \n",
       "4                   3                 NaN            2.0    Male        2.0   \n",
       "\n",
       "   user_depth  city_development_index  var_1  is_click product_webpage  \\\n",
       "0         3.0                     3.0      0         0         C_13787   \n",
       "1         2.0                     NaN      0         0         C_11085   \n",
       "2         2.0                     NaN      0         0         C_13787   \n",
       "3         3.0                     2.0      1         0         I_13787   \n",
       "4         3.0                     2.0      1         0         C_60305   \n",
       "\n",
       "   product1  productweb1 product_combined  product_combined1  \n",
       "0         2           17          4_13787                 20  \n",
       "1         2           16          5_11085                 25  \n",
       "2         2           17          4_13787                 20  \n",
       "3         8           63          3_13787                 14  \n",
       "4         2           22          3_60305                 17  "
      ]
     },
     "execution_count": 59,
     "metadata": {},
     "output_type": "execute_result"
    }
   ],
   "source": [
    "df.head()"
   ]
  },
  {
   "cell_type": "code",
   "execution_count": 13,
   "metadata": {},
   "outputs": [],
   "source": [
    "df[\"product_webpage\"]=df[\"product\"].astype(str) + \"_\" + df[\"webpage_id\"].astype(str)"
   ]
  },
  {
   "cell_type": "code",
   "execution_count": null,
   "metadata": {},
   "outputs": [],
   "source": [
    "df[\"productcat_webpage\"]=df[\"product_category_1\"].astype(str) + \"_\" + df[\"webpage_id\"].astype(str)"
   ]
  },
  {
   "cell_type": "code",
   "execution_count": 18,
   "metadata": {},
   "outputs": [],
   "source": [
    "df[\"user_age\"]=df[\"user_group_id\"].astype(str) + \"_\" + df[\"age_level\"].astype(str)"
   ]
  },
  {
   "cell_type": "code",
   "execution_count": 19,
   "metadata": {},
   "outputs": [],
   "source": [
    "df1[\"product_combined\"]=df1[\"product_category_1\"].astype(str) + \"_\" + df1[\"product_category_2\"].astype(str)\n",
    "\n",
    "df1[\"user_age\"]=df1[\"user_group_id\"].astype(str) + \"_\" + df1[\"age_level\"].astype(str)"
   ]
  },
  {
   "cell_type": "code",
   "execution_count": 14,
   "metadata": {},
   "outputs": [],
   "source": [
    "df1[\"product_webpage\"]=df1[\"product\"].astype(str) + \"_\" + df1[\"webpage_id\"].astype(str)"
   ]
  },
  {
   "cell_type": "code",
   "execution_count": 65,
   "metadata": {},
   "outputs": [],
   "source": [
    "X=df.drop([\"is_click\",\"session_id\",\"DateTime\",\"user_id\",\"product\",\"product_webpage\",\"gender\",\"product_combined\",\"Date\"],axis=1)\n",
    "y=df[\"is_click\"]"
   ]
  },
  {
   "cell_type": "code",
   "execution_count": 61,
   "metadata": {},
   "outputs": [],
   "source": [
    "test=df1.drop([\"session_id\",\"DateTime\",\"user_id\",\"product\",\"product_webpage\",\"gender\",\"product_combined\"],axis=1)"
   ]
  },
  {
   "cell_type": "code",
   "execution_count": 62,
   "metadata": {},
   "outputs": [
    {
     "data": {
      "text/html": [
       "<div>\n",
       "<style scoped>\n",
       "    .dataframe tbody tr th:only-of-type {\n",
       "        vertical-align: middle;\n",
       "    }\n",
       "\n",
       "    .dataframe tbody tr th {\n",
       "        vertical-align: top;\n",
       "    }\n",
       "\n",
       "    .dataframe thead th {\n",
       "        text-align: right;\n",
       "    }\n",
       "</style>\n",
       "<table border=\"1\" class=\"dataframe\">\n",
       "  <thead>\n",
       "    <tr style=\"text-align: right;\">\n",
       "      <th></th>\n",
       "      <th>campaign_id</th>\n",
       "      <th>webpage_id</th>\n",
       "      <th>product_category_1</th>\n",
       "      <th>product_category_2</th>\n",
       "      <th>user_group_id</th>\n",
       "      <th>age_level</th>\n",
       "      <th>user_depth</th>\n",
       "      <th>city_development_index</th>\n",
       "      <th>var_1</th>\n",
       "      <th>product1</th>\n",
       "      <th>productweb1</th>\n",
       "      <th>product_combined1</th>\n",
       "      <th>Date</th>\n",
       "      <th>day</th>\n",
       "    </tr>\n",
       "  </thead>\n",
       "  <tbody>\n",
       "    <tr>\n",
       "      <th>0</th>\n",
       "      <td>359520</td>\n",
       "      <td>13787</td>\n",
       "      <td>4</td>\n",
       "      <td>NaN</td>\n",
       "      <td>10.0</td>\n",
       "      <td>4.0</td>\n",
       "      <td>3.0</td>\n",
       "      <td>3.0</td>\n",
       "      <td>0</td>\n",
       "      <td>2</td>\n",
       "      <td>17</td>\n",
       "      <td>20</td>\n",
       "      <td>2017-07-02 00:00:00</td>\n",
       "      <td>2</td>\n",
       "    </tr>\n",
       "    <tr>\n",
       "      <th>1</th>\n",
       "      <td>105960</td>\n",
       "      <td>11085</td>\n",
       "      <td>5</td>\n",
       "      <td>NaN</td>\n",
       "      <td>8.0</td>\n",
       "      <td>2.0</td>\n",
       "      <td>2.0</td>\n",
       "      <td>NaN</td>\n",
       "      <td>0</td>\n",
       "      <td>2</td>\n",
       "      <td>16</td>\n",
       "      <td>25</td>\n",
       "      <td>2017-07-02 00:00:00</td>\n",
       "      <td>2</td>\n",
       "    </tr>\n",
       "    <tr>\n",
       "      <th>2</th>\n",
       "      <td>359520</td>\n",
       "      <td>13787</td>\n",
       "      <td>4</td>\n",
       "      <td>NaN</td>\n",
       "      <td>8.0</td>\n",
       "      <td>2.0</td>\n",
       "      <td>2.0</td>\n",
       "      <td>NaN</td>\n",
       "      <td>0</td>\n",
       "      <td>2</td>\n",
       "      <td>17</td>\n",
       "      <td>20</td>\n",
       "      <td>2017-07-02 00:00:00</td>\n",
       "      <td>2</td>\n",
       "    </tr>\n",
       "    <tr>\n",
       "      <th>3</th>\n",
       "      <td>359520</td>\n",
       "      <td>13787</td>\n",
       "      <td>3</td>\n",
       "      <td>NaN</td>\n",
       "      <td>3.0</td>\n",
       "      <td>3.0</td>\n",
       "      <td>3.0</td>\n",
       "      <td>2.0</td>\n",
       "      <td>1</td>\n",
       "      <td>8</td>\n",
       "      <td>63</td>\n",
       "      <td>14</td>\n",
       "      <td>2017-07-02 00:00:00</td>\n",
       "      <td>2</td>\n",
       "    </tr>\n",
       "    <tr>\n",
       "      <th>4</th>\n",
       "      <td>405490</td>\n",
       "      <td>60305</td>\n",
       "      <td>3</td>\n",
       "      <td>NaN</td>\n",
       "      <td>2.0</td>\n",
       "      <td>2.0</td>\n",
       "      <td>3.0</td>\n",
       "      <td>2.0</td>\n",
       "      <td>1</td>\n",
       "      <td>2</td>\n",
       "      <td>22</td>\n",
       "      <td>17</td>\n",
       "      <td>2017-07-02 00:01:00</td>\n",
       "      <td>2</td>\n",
       "    </tr>\n",
       "  </tbody>\n",
       "</table>\n",
       "</div>"
      ],
      "text/plain": [
       "   campaign_id  webpage_id  product_category_1  product_category_2  \\\n",
       "0       359520       13787                   4                 NaN   \n",
       "1       105960       11085                   5                 NaN   \n",
       "2       359520       13787                   4                 NaN   \n",
       "3       359520       13787                   3                 NaN   \n",
       "4       405490       60305                   3                 NaN   \n",
       "\n",
       "   user_group_id  age_level  user_depth  city_development_index  var_1  \\\n",
       "0           10.0        4.0         3.0                     3.0      0   \n",
       "1            8.0        2.0         2.0                     NaN      0   \n",
       "2            8.0        2.0         2.0                     NaN      0   \n",
       "3            3.0        3.0         3.0                     2.0      1   \n",
       "4            2.0        2.0         3.0                     2.0      1   \n",
       "\n",
       "   product1  productweb1  product_combined1                Date  day  \n",
       "0         2           17                 20 2017-07-02 00:00:00    2  \n",
       "1         2           16                 25 2017-07-02 00:00:00    2  \n",
       "2         2           17                 20 2017-07-02 00:00:00    2  \n",
       "3         8           63                 14 2017-07-02 00:00:00    2  \n",
       "4         2           22                 17 2017-07-02 00:01:00    2  "
      ]
     },
     "execution_count": 62,
     "metadata": {},
     "output_type": "execute_result"
    }
   ],
   "source": [
    "X.head()"
   ]
  },
  {
   "cell_type": "code",
   "execution_count": 66,
   "metadata": {},
   "outputs": [
    {
     "data": {
      "text/plain": [
       "(463291, 13)"
      ]
     },
     "execution_count": 66,
     "metadata": {},
     "output_type": "execute_result"
    }
   ],
   "source": [
    "X.shape"
   ]
  },
  {
   "cell_type": "code",
   "execution_count": 15,
   "metadata": {},
   "outputs": [],
   "source": [
    "from sklearn import preprocessing\n",
    "le = preprocessing.LabelEncoder()"
   ]
  },
  {
   "cell_type": "code",
   "execution_count": 16,
   "metadata": {},
   "outputs": [
    {
     "data": {
      "text/plain": [
       "LabelEncoder()"
      ]
     },
     "execution_count": 16,
     "metadata": {},
     "output_type": "execute_result"
    }
   ],
   "source": [
    "le.fit(df[\"product\"])"
   ]
  },
  {
   "cell_type": "code",
   "execution_count": 17,
   "metadata": {},
   "outputs": [],
   "source": [
    "df[\"product1\"]=le.transform(df[\"product\"])\n",
    "df1[\"product1\"]=le.transform(df1[\"product\"])"
   ]
  },
  {
   "cell_type": "code",
   "execution_count": 30,
   "metadata": {},
   "outputs": [
    {
     "ename": "TypeError",
     "evalue": "'<' not supported between instances of 'float' and 'str'",
     "output_type": "error",
     "traceback": [
      "\u001b[1;31m---------------------------------------------------------------------------\u001b[0m",
      "\u001b[1;31mTypeError\u001b[0m                                 Traceback (most recent call last)",
      "\u001b[1;32m<ipython-input-30-de184bd870e4>\u001b[0m in \u001b[0;36m<module>\u001b[1;34m()\u001b[0m\n\u001b[1;32m----> 1\u001b[1;33m \u001b[0mle\u001b[0m\u001b[1;33m.\u001b[0m\u001b[0mfit\u001b[0m\u001b[1;33m(\u001b[0m\u001b[0mdf\u001b[0m\u001b[1;33m[\u001b[0m\u001b[1;34m\"gender\"\u001b[0m\u001b[1;33m]\u001b[0m\u001b[1;33m)\u001b[0m\u001b[1;33m\u001b[0m\u001b[0m\n\u001b[0m",
      "\u001b[1;32m~\\Miniconda3\\envs\\AI\\lib\\site-packages\\sklearn\\preprocessing\\label.py\u001b[0m in \u001b[0;36mfit\u001b[1;34m(self, y)\u001b[0m\n\u001b[0;32m     94\u001b[0m         \"\"\"\n\u001b[0;32m     95\u001b[0m         \u001b[0my\u001b[0m \u001b[1;33m=\u001b[0m \u001b[0mcolumn_or_1d\u001b[0m\u001b[1;33m(\u001b[0m\u001b[0my\u001b[0m\u001b[1;33m,\u001b[0m \u001b[0mwarn\u001b[0m\u001b[1;33m=\u001b[0m\u001b[1;32mTrue\u001b[0m\u001b[1;33m)\u001b[0m\u001b[1;33m\u001b[0m\u001b[0m\n\u001b[1;32m---> 96\u001b[1;33m         \u001b[0mself\u001b[0m\u001b[1;33m.\u001b[0m\u001b[0mclasses_\u001b[0m \u001b[1;33m=\u001b[0m \u001b[0mnp\u001b[0m\u001b[1;33m.\u001b[0m\u001b[0munique\u001b[0m\u001b[1;33m(\u001b[0m\u001b[0my\u001b[0m\u001b[1;33m)\u001b[0m\u001b[1;33m\u001b[0m\u001b[0m\n\u001b[0m\u001b[0;32m     97\u001b[0m         \u001b[1;32mreturn\u001b[0m \u001b[0mself\u001b[0m\u001b[1;33m\u001b[0m\u001b[0m\n\u001b[0;32m     98\u001b[0m \u001b[1;33m\u001b[0m\u001b[0m\n",
      "\u001b[1;32m~\\Miniconda3\\envs\\AI\\lib\\site-packages\\numpy\\lib\\arraysetops.py\u001b[0m in \u001b[0;36munique\u001b[1;34m(ar, return_index, return_inverse, return_counts, axis)\u001b[0m\n\u001b[0;32m    231\u001b[0m     \u001b[0mar\u001b[0m \u001b[1;33m=\u001b[0m \u001b[0mnp\u001b[0m\u001b[1;33m.\u001b[0m\u001b[0masanyarray\u001b[0m\u001b[1;33m(\u001b[0m\u001b[0mar\u001b[0m\u001b[1;33m)\u001b[0m\u001b[1;33m\u001b[0m\u001b[0m\n\u001b[0;32m    232\u001b[0m     \u001b[1;32mif\u001b[0m \u001b[0maxis\u001b[0m \u001b[1;32mis\u001b[0m \u001b[1;32mNone\u001b[0m\u001b[1;33m:\u001b[0m\u001b[1;33m\u001b[0m\u001b[0m\n\u001b[1;32m--> 233\u001b[1;33m         \u001b[0mret\u001b[0m \u001b[1;33m=\u001b[0m \u001b[0m_unique1d\u001b[0m\u001b[1;33m(\u001b[0m\u001b[0mar\u001b[0m\u001b[1;33m,\u001b[0m \u001b[0mreturn_index\u001b[0m\u001b[1;33m,\u001b[0m \u001b[0mreturn_inverse\u001b[0m\u001b[1;33m,\u001b[0m \u001b[0mreturn_counts\u001b[0m\u001b[1;33m)\u001b[0m\u001b[1;33m\u001b[0m\u001b[0m\n\u001b[0m\u001b[0;32m    234\u001b[0m         \u001b[1;32mreturn\u001b[0m \u001b[0m_unpack_tuple\u001b[0m\u001b[1;33m(\u001b[0m\u001b[0mret\u001b[0m\u001b[1;33m)\u001b[0m\u001b[1;33m\u001b[0m\u001b[0m\n\u001b[0;32m    235\u001b[0m \u001b[1;33m\u001b[0m\u001b[0m\n",
      "\u001b[1;32m~\\Miniconda3\\envs\\AI\\lib\\site-packages\\numpy\\lib\\arraysetops.py\u001b[0m in \u001b[0;36m_unique1d\u001b[1;34m(ar, return_index, return_inverse, return_counts)\u001b[0m\n\u001b[0;32m    279\u001b[0m         \u001b[0maux\u001b[0m \u001b[1;33m=\u001b[0m \u001b[0mar\u001b[0m\u001b[1;33m[\u001b[0m\u001b[0mperm\u001b[0m\u001b[1;33m]\u001b[0m\u001b[1;33m\u001b[0m\u001b[0m\n\u001b[0;32m    280\u001b[0m     \u001b[1;32melse\u001b[0m\u001b[1;33m:\u001b[0m\u001b[1;33m\u001b[0m\u001b[0m\n\u001b[1;32m--> 281\u001b[1;33m         \u001b[0mar\u001b[0m\u001b[1;33m.\u001b[0m\u001b[0msort\u001b[0m\u001b[1;33m(\u001b[0m\u001b[1;33m)\u001b[0m\u001b[1;33m\u001b[0m\u001b[0m\n\u001b[0m\u001b[0;32m    282\u001b[0m         \u001b[0maux\u001b[0m \u001b[1;33m=\u001b[0m \u001b[0mar\u001b[0m\u001b[1;33m\u001b[0m\u001b[0m\n\u001b[0;32m    283\u001b[0m     \u001b[0mmask\u001b[0m \u001b[1;33m=\u001b[0m \u001b[0mnp\u001b[0m\u001b[1;33m.\u001b[0m\u001b[0mempty\u001b[0m\u001b[1;33m(\u001b[0m\u001b[0maux\u001b[0m\u001b[1;33m.\u001b[0m\u001b[0mshape\u001b[0m\u001b[1;33m,\u001b[0m \u001b[0mdtype\u001b[0m\u001b[1;33m=\u001b[0m\u001b[0mnp\u001b[0m\u001b[1;33m.\u001b[0m\u001b[0mbool_\u001b[0m\u001b[1;33m)\u001b[0m\u001b[1;33m\u001b[0m\u001b[0m\n",
      "\u001b[1;31mTypeError\u001b[0m: '<' not supported between instances of 'float' and 'str'"
     ]
    }
   ],
   "source": [
    "le.fit(df[\"gender\"])"
   ]
  },
  {
   "cell_type": "code",
   "execution_count": null,
   "metadata": {},
   "outputs": [],
   "source": [
    "df[\"gender1\"]=le.transform(df[\"gender\"])\n",
    "df1[\"gender1\"]=le.transform(df1[\"gender\"])"
   ]
  },
  {
   "cell_type": "code",
   "execution_count": 18,
   "metadata": {},
   "outputs": [
    {
     "data": {
      "text/plain": [
       "LabelEncoder()"
      ]
     },
     "execution_count": 18,
     "metadata": {},
     "output_type": "execute_result"
    }
   ],
   "source": [
    "le.fit(df[\"product_webpage\"])"
   ]
  },
  {
   "cell_type": "code",
   "execution_count": 19,
   "metadata": {},
   "outputs": [],
   "source": [
    "df[\"productweb1\"]=le.transform(df[\"product_webpage\"])\n",
    "df1[\"productweb1\"]=le.transform(df1[\"product_webpage\"])"
   ]
  },
  {
   "cell_type": "code",
   "execution_count": 20,
   "metadata": {},
   "outputs": [
    {
     "data": {
      "text/plain": [
       "LabelEncoder()"
      ]
     },
     "execution_count": 20,
     "metadata": {},
     "output_type": "execute_result"
    }
   ],
   "source": [
    "le.fit(df[\"product_combined\"])"
   ]
  },
  {
   "cell_type": "code",
   "execution_count": 21,
   "metadata": {},
   "outputs": [],
   "source": [
    "df[\"product_combined1\"]=le.transform(df[\"product_combined\"])\n",
    "df1[\"product_combined1\"]=le.transform(df1[\"product_combined\"])"
   ]
  },
  {
   "cell_type": "code",
   "execution_count": 38,
   "metadata": {},
   "outputs": [
    {
     "data": {
      "text/plain": [
       "LabelEncoder()"
      ]
     },
     "execution_count": 38,
     "metadata": {},
     "output_type": "execute_result"
    }
   ],
   "source": [
    "le.fit(df[\"user_age\"])"
   ]
  },
  {
   "cell_type": "code",
   "execution_count": 39,
   "metadata": {},
   "outputs": [],
   "source": [
    "df[\"userage1\"]=le.transform(df[\"user_age\"])\n",
    "df1[\"userage1\"]=le.transform(df1[\"user_age\"])"
   ]
  },
  {
   "cell_type": "code",
   "execution_count": null,
   "metadata": {},
   "outputs": [],
   "source": []
  },
  {
   "cell_type": "code",
   "execution_count": null,
   "metadata": {},
   "outputs": [],
   "source": []
  },
  {
   "cell_type": "code",
   "execution_count": 64,
   "metadata": {},
   "outputs": [],
   "source": [
    "import lightgbm as lgb\n",
    "model = lgb.LGBMClassifier(n_estimators = 400)"
   ]
  },
  {
   "cell_type": "code",
   "execution_count": 65,
   "metadata": {},
   "outputs": [
    {
     "data": {
      "text/plain": [
       "LGBMClassifier(boosting_type='gbdt', class_weight=None, colsample_bytree=1.0,\n",
       "        learning_rate=0.1, max_depth=-1, min_child_samples=20,\n",
       "        min_child_weight=0.001, min_split_gain=0.0, n_estimators=400,\n",
       "        n_jobs=-1, num_leaves=31, objective=None, random_state=None,\n",
       "        reg_alpha=0.0, reg_lambda=0.0, silent=True, subsample=1.0,\n",
       "        subsample_for_bin=200000, subsample_freq=0)"
      ]
     },
     "execution_count": 65,
     "metadata": {},
     "output_type": "execute_result"
    }
   ],
   "source": [
    "model.fit(X,y)"
   ]
  },
  {
   "cell_type": "code",
   "execution_count": 66,
   "metadata": {},
   "outputs": [
    {
     "name": "stderr",
     "output_type": "stream",
     "text": [
      "C:\\Users\\Sreyan\\Miniconda3\\envs\\AI\\lib\\site-packages\\sklearn\\preprocessing\\label.py:151: DeprecationWarning: The truth value of an empty array is ambiguous. Returning False, but in future this will result in an error. Use `array.size > 0` to check that an array is not empty.\n",
      "  if diff:\n"
     ]
    }
   ],
   "source": [
    "pred=model.predict(test)"
   ]
  },
  {
   "cell_type": "code",
   "execution_count": 67,
   "metadata": {},
   "outputs": [],
   "source": [
    "predict=pd.DataFrame(pred)"
   ]
  },
  {
   "cell_type": "code",
   "execution_count": 68,
   "metadata": {},
   "outputs": [
    {
     "data": {
      "text/plain": [
       "0    128837\n",
       "1        21\n",
       "Name: 0, dtype: int64"
      ]
     },
     "execution_count": 68,
     "metadata": {},
     "output_type": "execute_result"
    }
   ],
   "source": [
    "predict[0].value_counts()"
   ]
  },
  {
   "cell_type": "code",
   "execution_count": 69,
   "metadata": {},
   "outputs": [],
   "source": [
    "predict.to_csv(path_or_buf=\"C:/Users/Sreyan/Desktop/New folder/pred1.csv\", sep=\",\")"
   ]
  },
  {
   "cell_type": "code",
   "execution_count": 68,
   "metadata": {},
   "outputs": [
    {
     "data": {
      "text/plain": [
       "XGBClassifier(base_score=0.5, booster='gbtree', colsample_bylevel=0.8,\n",
       "       colsample_bytree=0.7, eta=0.2, gamma=0.8, learning_rate=0.1,\n",
       "       max_delta_step=0, max_depth=10, min_child_weight=4, missing=None,\n",
       "       n_estimators=200, n_jobs=1, nthread=None,\n",
       "       objective='binary:logistic', random_state=0, reg_alpha=0,\n",
       "       reg_lambda=1, scale_pos_weight=1, seed=None, silent=1, subsample=1)"
      ]
     },
     "execution_count": 68,
     "metadata": {},
     "output_type": "execute_result"
    }
   ],
   "source": [
    "import xgboost as xgb\n",
    "model=xgb.XGBClassifier(n_estimators=200,\n",
    "        eta= 0.2,\n",
    "        max_depth= 10,\n",
    "        \n",
    "        silent= 1,\n",
    "        \n",
    "        gamma= 0.8,\n",
    "        min_child_weight= 4,\n",
    "        colsample_bytree= 0.7,\n",
    "        colsample_bylevel= 0.8)\n",
    "model.fit(X,y)"
   ]
  },
  {
   "cell_type": "code",
   "execution_count": 72,
   "metadata": {},
   "outputs": [
    {
     "name": "stderr",
     "output_type": "stream",
     "text": [
      "C:\\Users\\Sreyan\\Miniconda3\\envs\\AI\\lib\\site-packages\\sklearn\\preprocessing\\label.py:151: DeprecationWarning: The truth value of an empty array is ambiguous. Returning False, but in future this will result in an error. Use `array.size > 0` to check that an array is not empty.\n",
      "  if diff:\n"
     ]
    }
   ],
   "source": [
    "predictXG=model.predict(X\n",
    "                       )"
   ]
  },
  {
   "cell_type": "code",
   "execution_count": 73,
   "metadata": {},
   "outputs": [],
   "source": [
    "predictXG1=pd.DataFrame(predictXG)"
   ]
  },
  {
   "cell_type": "code",
   "execution_count": 74,
   "metadata": {},
   "outputs": [
    {
     "data": {
      "text/plain": [
       "0    463276\n",
       "1        15\n",
       "Name: 0, dtype: int64"
      ]
     },
     "execution_count": 74,
     "metadata": {},
     "output_type": "execute_result"
    }
   ],
   "source": [
    "predictXG1[0].value_counts()"
   ]
  },
  {
   "cell_type": "code",
   "execution_count": 89,
   "metadata": {},
   "outputs": [
    {
     "data": {
      "text/html": [
       "<div>\n",
       "<style scoped>\n",
       "    .dataframe tbody tr th:only-of-type {\n",
       "        vertical-align: middle;\n",
       "    }\n",
       "\n",
       "    .dataframe tbody tr th {\n",
       "        vertical-align: top;\n",
       "    }\n",
       "\n",
       "    .dataframe thead th {\n",
       "        text-align: right;\n",
       "    }\n",
       "</style>\n",
       "<table border=\"1\" class=\"dataframe\">\n",
       "  <thead>\n",
       "    <tr style=\"text-align: right;\">\n",
       "      <th></th>\n",
       "      <th>campaign_id</th>\n",
       "      <th>webpage_id</th>\n",
       "      <th>product_category_1</th>\n",
       "      <th>product_category_2</th>\n",
       "      <th>user_group_id</th>\n",
       "      <th>age_level</th>\n",
       "      <th>user_depth</th>\n",
       "      <th>city_development_index</th>\n",
       "      <th>var_1</th>\n",
       "      <th>product1</th>\n",
       "      <th>productweb1</th>\n",
       "      <th>product_combined1</th>\n",
       "      <th>day</th>\n",
       "    </tr>\n",
       "  </thead>\n",
       "  <tbody>\n",
       "    <tr>\n",
       "      <th>0</th>\n",
       "      <td>359520</td>\n",
       "      <td>13787</td>\n",
       "      <td>4</td>\n",
       "      <td>NaN</td>\n",
       "      <td>10.0</td>\n",
       "      <td>4.0</td>\n",
       "      <td>3.0</td>\n",
       "      <td>3.0</td>\n",
       "      <td>0</td>\n",
       "      <td>2</td>\n",
       "      <td>17</td>\n",
       "      <td>20</td>\n",
       "      <td>2</td>\n",
       "    </tr>\n",
       "    <tr>\n",
       "      <th>1</th>\n",
       "      <td>105960</td>\n",
       "      <td>11085</td>\n",
       "      <td>5</td>\n",
       "      <td>NaN</td>\n",
       "      <td>8.0</td>\n",
       "      <td>2.0</td>\n",
       "      <td>2.0</td>\n",
       "      <td>NaN</td>\n",
       "      <td>0</td>\n",
       "      <td>2</td>\n",
       "      <td>16</td>\n",
       "      <td>25</td>\n",
       "      <td>2</td>\n",
       "    </tr>\n",
       "    <tr>\n",
       "      <th>2</th>\n",
       "      <td>359520</td>\n",
       "      <td>13787</td>\n",
       "      <td>4</td>\n",
       "      <td>NaN</td>\n",
       "      <td>8.0</td>\n",
       "      <td>2.0</td>\n",
       "      <td>2.0</td>\n",
       "      <td>NaN</td>\n",
       "      <td>0</td>\n",
       "      <td>2</td>\n",
       "      <td>17</td>\n",
       "      <td>20</td>\n",
       "      <td>2</td>\n",
       "    </tr>\n",
       "    <tr>\n",
       "      <th>3</th>\n",
       "      <td>359520</td>\n",
       "      <td>13787</td>\n",
       "      <td>3</td>\n",
       "      <td>NaN</td>\n",
       "      <td>3.0</td>\n",
       "      <td>3.0</td>\n",
       "      <td>3.0</td>\n",
       "      <td>2.0</td>\n",
       "      <td>1</td>\n",
       "      <td>8</td>\n",
       "      <td>63</td>\n",
       "      <td>14</td>\n",
       "      <td>2</td>\n",
       "    </tr>\n",
       "    <tr>\n",
       "      <th>4</th>\n",
       "      <td>405490</td>\n",
       "      <td>60305</td>\n",
       "      <td>3</td>\n",
       "      <td>NaN</td>\n",
       "      <td>2.0</td>\n",
       "      <td>2.0</td>\n",
       "      <td>3.0</td>\n",
       "      <td>2.0</td>\n",
       "      <td>1</td>\n",
       "      <td>2</td>\n",
       "      <td>22</td>\n",
       "      <td>17</td>\n",
       "      <td>2</td>\n",
       "    </tr>\n",
       "  </tbody>\n",
       "</table>\n",
       "</div>"
      ],
      "text/plain": [
       "   campaign_id  webpage_id  product_category_1  product_category_2  \\\n",
       "0       359520       13787                   4                 NaN   \n",
       "1       105960       11085                   5                 NaN   \n",
       "2       359520       13787                   4                 NaN   \n",
       "3       359520       13787                   3                 NaN   \n",
       "4       405490       60305                   3                 NaN   \n",
       "\n",
       "   user_group_id  age_level  user_depth  city_development_index  var_1  \\\n",
       "0           10.0        4.0         3.0                     3.0      0   \n",
       "1            8.0        2.0         2.0                     NaN      0   \n",
       "2            8.0        2.0         2.0                     NaN      0   \n",
       "3            3.0        3.0         3.0                     2.0      1   \n",
       "4            2.0        2.0         3.0                     2.0      1   \n",
       "\n",
       "   product1  productweb1  product_combined1  day  \n",
       "0         2           17                 20    2  \n",
       "1         2           16                 25    2  \n",
       "2         2           17                 20    2  \n",
       "3         8           63                 14    2  \n",
       "4         2           22                 17    2  "
      ]
     },
     "execution_count": 89,
     "metadata": {},
     "output_type": "execute_result"
    }
   ],
   "source": [
    "X.head()"
   ]
  },
  {
   "cell_type": "code",
   "execution_count": 85,
   "metadata": {},
   "outputs": [
    {
     "name": "stdout",
     "output_type": "stream",
     "text": [
      "[ 8.44327729 10.38510634  2.05835061  5.95367571  8.02226022  7.15074578\n",
      "  4.26825717  8.17888361  4.59179541  1.0995319  18.13369599  8.79050245\n",
      " 12.92391752]\n"
     ]
    }
   ],
   "source": [
    "print(model.feature_importances_)"
   ]
  },
  {
   "cell_type": "code",
   "execution_count": 88,
   "metadata": {},
   "outputs": [
    {
     "ename": "ValueError",
     "evalue": "tree must be Booster, XGBModel or dict instance",
     "output_type": "error",
     "traceback": [
      "\u001b[1;31m---------------------------------------------------------------------------\u001b[0m",
      "\u001b[1;31mValueError\u001b[0m                                Traceback (most recent call last)",
      "\u001b[1;32m<ipython-input-88-f97e62303c7a>\u001b[0m in \u001b[0;36m<module>\u001b[1;34m()\u001b[0m\n\u001b[1;32m----> 1\u001b[1;33m \u001b[0mxgb\u001b[0m\u001b[1;33m.\u001b[0m\u001b[0mplot_importance\u001b[0m\u001b[1;33m(\u001b[0m\u001b[0mmodel\u001b[0m\u001b[1;33m)\u001b[0m\u001b[1;33m\u001b[0m\u001b[0m\n\u001b[0m\u001b[0;32m      2\u001b[0m \u001b[0mpyplot\u001b[0m\u001b[1;33m.\u001b[0m\u001b[0mshow\u001b[0m\u001b[1;33m(\u001b[0m\u001b[1;33m)\u001b[0m\u001b[1;33m\u001b[0m\u001b[0m\n",
      "\u001b[1;32m~\\Miniconda3\\envs\\AI\\lib\\site-packages\\xgboost\\plotting.py\u001b[0m in \u001b[0;36mplot_importance\u001b[1;34m(booster, ax, height, xlim, ylim, title, xlabel, ylabel, importance_type, max_num_features, grid, show_values, **kwargs)\u001b[0m\n\u001b[0;32m     69\u001b[0m         \u001b[0mimportance\u001b[0m \u001b[1;33m=\u001b[0m \u001b[0mbooster\u001b[0m\u001b[1;33m\u001b[0m\u001b[0m\n\u001b[0;32m     70\u001b[0m     \u001b[1;32melse\u001b[0m\u001b[1;33m:\u001b[0m\u001b[1;33m\u001b[0m\u001b[0m\n\u001b[1;32m---> 71\u001b[1;33m         \u001b[1;32mraise\u001b[0m \u001b[0mValueError\u001b[0m\u001b[1;33m(\u001b[0m\u001b[1;34m'tree must be Booster, XGBModel or dict instance'\u001b[0m\u001b[1;33m)\u001b[0m\u001b[1;33m\u001b[0m\u001b[0m\n\u001b[0m\u001b[0;32m     72\u001b[0m \u001b[1;33m\u001b[0m\u001b[0m\n\u001b[0;32m     73\u001b[0m     \u001b[1;32mif\u001b[0m \u001b[0mlen\u001b[0m\u001b[1;33m(\u001b[0m\u001b[0mimportance\u001b[0m\u001b[1;33m)\u001b[0m \u001b[1;33m==\u001b[0m \u001b[1;36m0\u001b[0m\u001b[1;33m:\u001b[0m\u001b[1;33m\u001b[0m\u001b[0m\n",
      "\u001b[1;31mValueError\u001b[0m: tree must be Booster, XGBModel or dict instance"
     ]
    }
   ],
   "source": [
    "xgb.plot_importance(model)\n",
    "pyplot.show()"
   ]
  },
  {
   "cell_type": "markdown",
   "metadata": {},
   "source": []
  },
  {
   "cell_type": "code",
   "execution_count": 82,
   "metadata": {},
   "outputs": [],
   "source": [
    "model= CatBoostClassifier(n_estimators=200)\n",
    "        "
   ]
  },
  {
   "cell_type": "code",
   "execution_count": 83,
   "metadata": {},
   "outputs": [
    {
     "name": "stdout",
     "output_type": "stream",
     "text": [
      "0:\tlearn: 0.3677747\ttotal: 182ms\tremaining: 36.2s\n",
      "1:\tlearn: 0.2821706\ttotal: 331ms\tremaining: 32.8s\n",
      "2:\tlearn: 0.2569777\ttotal: 500ms\tremaining: 32.8s\n",
      "3:\tlearn: 0.2485450\ttotal: 680ms\tremaining: 33.3s\n",
      "4:\tlearn: 0.2456705\ttotal: 835ms\tremaining: 32.6s\n",
      "5:\tlearn: 0.2445176\ttotal: 989ms\tremaining: 32s\n",
      "6:\tlearn: 0.2441482\ttotal: 1.15s\tremaining: 31.8s\n",
      "7:\tlearn: 0.2439729\ttotal: 1.29s\tremaining: 31s\n",
      "8:\tlearn: 0.2438557\ttotal: 1.45s\tremaining: 30.7s\n",
      "9:\tlearn: 0.2437191\ttotal: 1.61s\tremaining: 30.6s\n",
      "10:\tlearn: 0.2436631\ttotal: 1.75s\tremaining: 30s\n",
      "11:\tlearn: 0.2435906\ttotal: 1.89s\tremaining: 29.7s\n",
      "12:\tlearn: 0.2435393\ttotal: 2.06s\tremaining: 29.7s\n",
      "13:\tlearn: 0.2434907\ttotal: 2.21s\tremaining: 29.4s\n",
      "14:\tlearn: 0.2434353\ttotal: 2.38s\tremaining: 29.4s\n",
      "15:\tlearn: 0.2433774\ttotal: 2.53s\tremaining: 29.1s\n",
      "16:\tlearn: 0.2433118\ttotal: 2.67s\tremaining: 28.7s\n",
      "17:\tlearn: 0.2432783\ttotal: 2.81s\tremaining: 28.5s\n",
      "18:\tlearn: 0.2432122\ttotal: 3s\tremaining: 28.6s\n",
      "19:\tlearn: 0.2431422\ttotal: 3.15s\tremaining: 28.4s\n",
      "20:\tlearn: 0.2430835\ttotal: 3.31s\tremaining: 28.2s\n",
      "21:\tlearn: 0.2430541\ttotal: 3.46s\tremaining: 28s\n",
      "22:\tlearn: 0.2430207\ttotal: 3.61s\tremaining: 27.8s\n",
      "23:\tlearn: 0.2429824\ttotal: 3.76s\tremaining: 27.6s\n",
      "24:\tlearn: 0.2429315\ttotal: 3.93s\tremaining: 27.5s\n",
      "25:\tlearn: 0.2428999\ttotal: 4.08s\tremaining: 27.3s\n",
      "26:\tlearn: 0.2428729\ttotal: 4.22s\tremaining: 27s\n",
      "27:\tlearn: 0.2428537\ttotal: 4.37s\tremaining: 26.8s\n",
      "28:\tlearn: 0.2428166\ttotal: 4.53s\tremaining: 26.7s\n",
      "29:\tlearn: 0.2427760\ttotal: 4.67s\tremaining: 26.5s\n",
      "30:\tlearn: 0.2427608\ttotal: 4.84s\tremaining: 26.4s\n",
      "31:\tlearn: 0.2427447\ttotal: 4.98s\tremaining: 26.1s\n",
      "32:\tlearn: 0.2427109\ttotal: 5.14s\tremaining: 26s\n",
      "33:\tlearn: 0.2426697\ttotal: 5.29s\tremaining: 25.8s\n",
      "34:\tlearn: 0.2426185\ttotal: 5.47s\tremaining: 25.8s\n",
      "35:\tlearn: 0.2425882\ttotal: 5.61s\tremaining: 25.6s\n",
      "36:\tlearn: 0.2425593\ttotal: 5.78s\tremaining: 25.5s\n",
      "37:\tlearn: 0.2425114\ttotal: 5.93s\tremaining: 25.3s\n",
      "38:\tlearn: 0.2424929\ttotal: 6.08s\tremaining: 25.1s\n",
      "39:\tlearn: 0.2424608\ttotal: 6.24s\tremaining: 24.9s\n",
      "40:\tlearn: 0.2424398\ttotal: 6.4s\tremaining: 24.8s\n",
      "41:\tlearn: 0.2424083\ttotal: 6.55s\tremaining: 24.7s\n",
      "42:\tlearn: 0.2423778\ttotal: 6.72s\tremaining: 24.6s\n",
      "43:\tlearn: 0.2423543\ttotal: 6.87s\tremaining: 24.3s\n",
      "44:\tlearn: 0.2423357\ttotal: 7.03s\tremaining: 24.2s\n",
      "45:\tlearn: 0.2423094\ttotal: 7.17s\tremaining: 24s\n",
      "46:\tlearn: 0.2422908\ttotal: 7.32s\tremaining: 23.8s\n",
      "47:\tlearn: 0.2422723\ttotal: 7.47s\tremaining: 23.7s\n",
      "48:\tlearn: 0.2422483\ttotal: 7.63s\tremaining: 23.5s\n",
      "49:\tlearn: 0.2422326\ttotal: 7.78s\tremaining: 23.3s\n",
      "50:\tlearn: 0.2422119\ttotal: 7.94s\tremaining: 23.2s\n",
      "51:\tlearn: 0.2421860\ttotal: 8.09s\tremaining: 23s\n",
      "52:\tlearn: 0.2421576\ttotal: 8.24s\tremaining: 22.9s\n",
      "53:\tlearn: 0.2421259\ttotal: 8.39s\tremaining: 22.7s\n",
      "54:\tlearn: 0.2421074\ttotal: 8.55s\tremaining: 22.5s\n",
      "55:\tlearn: 0.2420831\ttotal: 8.7s\tremaining: 22.4s\n",
      "56:\tlearn: 0.2420571\ttotal: 8.84s\tremaining: 22.2s\n",
      "57:\tlearn: 0.2420400\ttotal: 8.99s\tremaining: 22s\n",
      "58:\tlearn: 0.2420142\ttotal: 9.14s\tremaining: 21.9s\n",
      "59:\tlearn: 0.2419930\ttotal: 9.29s\tremaining: 21.7s\n",
      "60:\tlearn: 0.2419664\ttotal: 9.43s\tremaining: 21.5s\n",
      "61:\tlearn: 0.2419428\ttotal: 9.59s\tremaining: 21.3s\n",
      "62:\tlearn: 0.2419108\ttotal: 9.74s\tremaining: 21.2s\n",
      "63:\tlearn: 0.2418823\ttotal: 9.9s\tremaining: 21s\n",
      "64:\tlearn: 0.2418372\ttotal: 10.1s\tremaining: 20.9s\n",
      "65:\tlearn: 0.2418233\ttotal: 10.2s\tremaining: 20.8s\n",
      "66:\tlearn: 0.2417938\ttotal: 10.4s\tremaining: 20.6s\n",
      "67:\tlearn: 0.2417715\ttotal: 10.5s\tremaining: 20.5s\n",
      "68:\tlearn: 0.2417479\ttotal: 10.7s\tremaining: 20.3s\n",
      "69:\tlearn: 0.2417301\ttotal: 10.9s\tremaining: 20.2s\n",
      "70:\tlearn: 0.2417021\ttotal: 11s\tremaining: 20s\n",
      "71:\tlearn: 0.2416937\ttotal: 11.2s\tremaining: 19.9s\n",
      "72:\tlearn: 0.2416747\ttotal: 11.3s\tremaining: 19.7s\n",
      "73:\tlearn: 0.2416670\ttotal: 11.5s\tremaining: 19.6s\n",
      "74:\tlearn: 0.2416478\ttotal: 11.7s\tremaining: 19.4s\n",
      "75:\tlearn: 0.2416206\ttotal: 11.8s\tremaining: 19.3s\n",
      "76:\tlearn: 0.2415972\ttotal: 12s\tremaining: 19.1s\n",
      "77:\tlearn: 0.2415809\ttotal: 12.1s\tremaining: 19s\n",
      "78:\tlearn: 0.2415607\ttotal: 12.3s\tremaining: 18.8s\n",
      "79:\tlearn: 0.2415439\ttotal: 12.4s\tremaining: 18.7s\n",
      "80:\tlearn: 0.2415273\ttotal: 12.6s\tremaining: 18.5s\n",
      "81:\tlearn: 0.2415015\ttotal: 12.8s\tremaining: 18.4s\n",
      "82:\tlearn: 0.2414796\ttotal: 12.9s\tremaining: 18.2s\n",
      "83:\tlearn: 0.2414598\ttotal: 13.1s\tremaining: 18.1s\n",
      "84:\tlearn: 0.2414353\ttotal: 13.2s\tremaining: 17.9s\n",
      "85:\tlearn: 0.2414213\ttotal: 13.4s\tremaining: 17.7s\n",
      "86:\tlearn: 0.2414101\ttotal: 13.5s\tremaining: 17.6s\n",
      "87:\tlearn: 0.2413945\ttotal: 13.7s\tremaining: 17.4s\n",
      "88:\tlearn: 0.2413680\ttotal: 13.8s\tremaining: 17.2s\n",
      "89:\tlearn: 0.2413513\ttotal: 14s\tremaining: 17.1s\n",
      "90:\tlearn: 0.2413359\ttotal: 14.1s\tremaining: 16.9s\n",
      "91:\tlearn: 0.2413190\ttotal: 14.3s\tremaining: 16.8s\n",
      "92:\tlearn: 0.2413047\ttotal: 14.5s\tremaining: 16.6s\n",
      "93:\tlearn: 0.2412829\ttotal: 14.6s\tremaining: 16.5s\n",
      "94:\tlearn: 0.2412668\ttotal: 14.8s\tremaining: 16.3s\n",
      "95:\tlearn: 0.2412572\ttotal: 14.9s\tremaining: 16.2s\n",
      "96:\tlearn: 0.2412337\ttotal: 15.1s\tremaining: 16s\n",
      "97:\tlearn: 0.2412173\ttotal: 15.2s\tremaining: 15.9s\n",
      "98:\tlearn: 0.2412046\ttotal: 15.4s\tremaining: 15.7s\n",
      "99:\tlearn: 0.2411766\ttotal: 15.5s\tremaining: 15.5s\n",
      "100:\tlearn: 0.2411433\ttotal: 15.7s\tremaining: 15.4s\n",
      "101:\tlearn: 0.2411336\ttotal: 15.8s\tremaining: 15.2s\n",
      "102:\tlearn: 0.2411223\ttotal: 16s\tremaining: 15s\n",
      "103:\tlearn: 0.2411091\ttotal: 16.1s\tremaining: 14.9s\n",
      "104:\tlearn: 0.2410993\ttotal: 16.3s\tremaining: 14.7s\n",
      "105:\tlearn: 0.2410823\ttotal: 16.4s\tremaining: 14.6s\n",
      "106:\tlearn: 0.2410647\ttotal: 16.6s\tremaining: 14.4s\n",
      "107:\tlearn: 0.2410476\ttotal: 16.8s\tremaining: 14.3s\n",
      "108:\tlearn: 0.2410335\ttotal: 16.9s\tremaining: 14.1s\n",
      "109:\tlearn: 0.2410170\ttotal: 17.1s\tremaining: 14s\n",
      "110:\tlearn: 0.2410091\ttotal: 17.3s\tremaining: 13.8s\n",
      "111:\tlearn: 0.2409752\ttotal: 17.4s\tremaining: 13.7s\n",
      "112:\tlearn: 0.2409538\ttotal: 17.6s\tremaining: 13.5s\n",
      "113:\tlearn: 0.2409361\ttotal: 17.7s\tremaining: 13.4s\n",
      "114:\tlearn: 0.2409068\ttotal: 17.9s\tremaining: 13.2s\n",
      "115:\tlearn: 0.2408872\ttotal: 18s\tremaining: 13.1s\n",
      "116:\tlearn: 0.2408719\ttotal: 18.2s\tremaining: 12.9s\n",
      "117:\tlearn: 0.2408630\ttotal: 18.3s\tremaining: 12.7s\n",
      "118:\tlearn: 0.2408401\ttotal: 18.5s\tremaining: 12.6s\n",
      "119:\tlearn: 0.2408188\ttotal: 18.6s\tremaining: 12.4s\n",
      "120:\tlearn: 0.2408017\ttotal: 18.8s\tremaining: 12.3s\n",
      "121:\tlearn: 0.2407895\ttotal: 18.9s\tremaining: 12.1s\n",
      "122:\tlearn: 0.2407741\ttotal: 19.1s\tremaining: 12s\n",
      "123:\tlearn: 0.2407577\ttotal: 19.2s\tremaining: 11.8s\n",
      "124:\tlearn: 0.2407429\ttotal: 19.4s\tremaining: 11.6s\n",
      "125:\tlearn: 0.2407172\ttotal: 19.5s\tremaining: 11.5s\n",
      "126:\tlearn: 0.2407080\ttotal: 19.7s\tremaining: 11.3s\n",
      "127:\tlearn: 0.2406895\ttotal: 19.9s\tremaining: 11.2s\n",
      "128:\tlearn: 0.2406786\ttotal: 20s\tremaining: 11s\n",
      "129:\tlearn: 0.2406606\ttotal: 20.2s\tremaining: 10.9s\n",
      "130:\tlearn: 0.2406391\ttotal: 20.3s\tremaining: 10.7s\n",
      "131:\tlearn: 0.2406277\ttotal: 20.5s\tremaining: 10.5s\n",
      "132:\tlearn: 0.2406096\ttotal: 20.6s\tremaining: 10.4s\n",
      "133:\tlearn: 0.2405968\ttotal: 20.8s\tremaining: 10.2s\n",
      "134:\tlearn: 0.2405857\ttotal: 20.9s\tremaining: 10.1s\n",
      "135:\tlearn: 0.2405731\ttotal: 21.1s\tremaining: 9.93s\n",
      "136:\tlearn: 0.2405508\ttotal: 21.2s\tremaining: 9.77s\n",
      "137:\tlearn: 0.2405370\ttotal: 21.4s\tremaining: 9.62s\n",
      "138:\tlearn: 0.2405153\ttotal: 21.5s\tremaining: 9.45s\n",
      "139:\tlearn: 0.2404892\ttotal: 21.7s\tremaining: 9.3s\n",
      "140:\tlearn: 0.2404716\ttotal: 21.9s\tremaining: 9.14s\n",
      "141:\tlearn: 0.2404591\ttotal: 22s\tremaining: 8.99s\n",
      "142:\tlearn: 0.2404396\ttotal: 22.2s\tremaining: 8.84s\n",
      "143:\tlearn: 0.2404270\ttotal: 22.3s\tremaining: 8.69s\n",
      "144:\tlearn: 0.2404183\ttotal: 22.5s\tremaining: 8.53s\n",
      "145:\tlearn: 0.2404005\ttotal: 22.6s\tremaining: 8.37s\n",
      "146:\tlearn: 0.2403886\ttotal: 22.8s\tremaining: 8.22s\n",
      "147:\tlearn: 0.2403676\ttotal: 23s\tremaining: 8.07s\n",
      "148:\tlearn: 0.2403539\ttotal: 23.1s\tremaining: 7.91s\n",
      "149:\tlearn: 0.2403390\ttotal: 23.3s\tremaining: 7.75s\n",
      "150:\tlearn: 0.2403297\ttotal: 23.4s\tremaining: 7.59s\n",
      "151:\tlearn: 0.2403182\ttotal: 23.6s\tremaining: 7.44s\n",
      "152:\tlearn: 0.2403060\ttotal: 23.7s\tremaining: 7.29s\n",
      "153:\tlearn: 0.2402918\ttotal: 23.9s\tremaining: 7.13s\n",
      "154:\tlearn: 0.2402720\ttotal: 24s\tremaining: 6.97s\n",
      "155:\tlearn: 0.2402621\ttotal: 24.2s\tremaining: 6.82s\n",
      "156:\tlearn: 0.2402414\ttotal: 24.3s\tremaining: 6.67s\n",
      "157:\tlearn: 0.2402322\ttotal: 24.5s\tremaining: 6.51s\n",
      "158:\tlearn: 0.2402183\ttotal: 24.6s\tremaining: 6.36s\n",
      "159:\tlearn: 0.2402093\ttotal: 24.8s\tremaining: 6.2s\n",
      "160:\tlearn: 0.2401943\ttotal: 24.9s\tremaining: 6.04s\n"
     ]
    },
    {
     "name": "stdout",
     "output_type": "stream",
     "text": [
      "161:\tlearn: 0.2401830\ttotal: 25.1s\tremaining: 5.89s\n",
      "162:\tlearn: 0.2401670\ttotal: 25.3s\tremaining: 5.73s\n",
      "163:\tlearn: 0.2401501\ttotal: 25.4s\tremaining: 5.58s\n",
      "164:\tlearn: 0.2401423\ttotal: 25.6s\tremaining: 5.42s\n",
      "165:\tlearn: 0.2401370\ttotal: 25.7s\tremaining: 5.26s\n",
      "166:\tlearn: 0.2401146\ttotal: 25.9s\tremaining: 5.11s\n",
      "167:\tlearn: 0.2400999\ttotal: 26s\tremaining: 4.95s\n",
      "168:\tlearn: 0.2400888\ttotal: 26.2s\tremaining: 4.8s\n",
      "169:\tlearn: 0.2400795\ttotal: 26.3s\tremaining: 4.64s\n",
      "170:\tlearn: 0.2400664\ttotal: 26.5s\tremaining: 4.49s\n",
      "171:\tlearn: 0.2400514\ttotal: 26.6s\tremaining: 4.33s\n",
      "172:\tlearn: 0.2400323\ttotal: 26.8s\tremaining: 4.17s\n",
      "173:\tlearn: 0.2400249\ttotal: 26.9s\tremaining: 4.02s\n",
      "174:\tlearn: 0.2400122\ttotal: 27.1s\tremaining: 3.86s\n",
      "175:\tlearn: 0.2399878\ttotal: 27.2s\tremaining: 3.71s\n",
      "176:\tlearn: 0.2399708\ttotal: 27.4s\tremaining: 3.56s\n",
      "177:\tlearn: 0.2399615\ttotal: 27.5s\tremaining: 3.4s\n",
      "178:\tlearn: 0.2399463\ttotal: 27.7s\tremaining: 3.25s\n",
      "179:\tlearn: 0.2399294\ttotal: 27.8s\tremaining: 3.09s\n",
      "180:\tlearn: 0.2399183\ttotal: 28s\tremaining: 2.94s\n",
      "181:\tlearn: 0.2398936\ttotal: 28.1s\tremaining: 2.78s\n",
      "182:\tlearn: 0.2398894\ttotal: 28.3s\tremaining: 2.63s\n",
      "183:\tlearn: 0.2398757\ttotal: 28.4s\tremaining: 2.47s\n",
      "184:\tlearn: 0.2398560\ttotal: 28.6s\tremaining: 2.32s\n",
      "185:\tlearn: 0.2398393\ttotal: 28.7s\tremaining: 2.16s\n",
      "186:\tlearn: 0.2398356\ttotal: 28.8s\tremaining: 2s\n",
      "187:\tlearn: 0.2398269\ttotal: 29s\tremaining: 1.85s\n",
      "188:\tlearn: 0.2398209\ttotal: 29.2s\tremaining: 1.7s\n",
      "189:\tlearn: 0.2398119\ttotal: 29.3s\tremaining: 1.54s\n",
      "190:\tlearn: 0.2397955\ttotal: 29.5s\tremaining: 1.39s\n",
      "191:\tlearn: 0.2397788\ttotal: 29.7s\tremaining: 1.24s\n",
      "192:\tlearn: 0.2397693\ttotal: 29.8s\tremaining: 1.08s\n",
      "193:\tlearn: 0.2397583\ttotal: 30s\tremaining: 928ms\n",
      "194:\tlearn: 0.2397340\ttotal: 30.2s\tremaining: 773ms\n",
      "195:\tlearn: 0.2397279\ttotal: 30.3s\tremaining: 619ms\n",
      "196:\tlearn: 0.2397148\ttotal: 30.5s\tremaining: 464ms\n",
      "197:\tlearn: 0.2397001\ttotal: 30.7s\tremaining: 310ms\n",
      "198:\tlearn: 0.2396947\ttotal: 30.8s\tremaining: 155ms\n",
      "199:\tlearn: 0.2396793\ttotal: 31s\tremaining: 0us\n"
     ]
    },
    {
     "data": {
      "text/plain": [
       "<catboost.core.CatBoostClassifier at 0x23a00b48e80>"
      ]
     },
     "execution_count": 83,
     "metadata": {},
     "output_type": "execute_result"
    }
   ],
   "source": [
    "model.fit(X,y)"
   ]
  },
  {
   "cell_type": "code",
   "execution_count": 27,
   "metadata": {},
   "outputs": [],
   "source": [
    "predcat=model.predict(test)"
   ]
  },
  {
   "cell_type": "code",
   "execution_count": 28,
   "metadata": {},
   "outputs": [],
   "source": [
    "predictcat=pd.DataFrame(predcat)"
   ]
  },
  {
   "cell_type": "code",
   "execution_count": 29,
   "metadata": {},
   "outputs": [
    {
     "data": {
      "text/plain": [
       "0.0    128846\n",
       "1.0        12\n",
       "Name: 0, dtype: int64"
      ]
     },
     "execution_count": 29,
     "metadata": {},
     "output_type": "execute_result"
    }
   ],
   "source": [
    "predictcat[0].value_counts()"
   ]
  },
  {
   "cell_type": "code",
   "execution_count": null,
   "metadata": {},
   "outputs": [],
   "source": []
  }
 ],
 "metadata": {
  "kernelspec": {
   "display_name": "Python 3",
   "language": "python",
   "name": "python3"
  },
  "language_info": {
   "codemirror_mode": {
    "name": "ipython",
    "version": 3
   },
   "file_extension": ".py",
   "mimetype": "text/x-python",
   "name": "python",
   "nbconvert_exporter": "python",
   "pygments_lexer": "ipython3",
   "version": "3.6.6"
  },
  "varInspector": {
   "cols": {
    "lenName": 16,
    "lenType": 16,
    "lenVar": 40
   },
   "kernels_config": {
    "python": {
     "delete_cmd_postfix": "",
     "delete_cmd_prefix": "del ",
     "library": "var_list.py",
     "varRefreshCmd": "print(var_dic_list())"
    },
    "r": {
     "delete_cmd_postfix": ") ",
     "delete_cmd_prefix": "rm(",
     "library": "var_list.r",
     "varRefreshCmd": "cat(var_dic_list()) "
    }
   },
   "types_to_exclude": [
    "module",
    "function",
    "builtin_function_or_method",
    "instance",
    "_Feature"
   ],
   "window_display": false
  }
 },
 "nbformat": 4,
 "nbformat_minor": 2
}
